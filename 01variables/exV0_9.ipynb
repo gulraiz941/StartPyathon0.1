{
  "nbformat": 4,
  "nbformat_minor": 0,
  "metadata": {
    "colab": {
      "provenance": []
    },
    "kernelspec": {
      "name": "python3",
      "display_name": "Python 3"
    },
    "language_info": {
      "name": "python"
    }
  },
  "cells": [
    {
      "cell_type": "code",
      "source": [
        "# Handling the Exception\n",
        "\n",
        "try:\n",
        "    a = int(input(\"Enter First Number: \"))\n",
        "    b = int(input(\"Enter Divider Number: \"))\n",
        "    c = a / b\n",
        "\n",
        "    print(\"Answer: \" + str(c))\n",
        "\n",
        "except:\n",
        "    print(\"Error!\")"
      ],
      "metadata": {
        "colab": {
          "base_uri": "https://localhost:8080/"
        },
        "id": "i3gdqu9WtnoI",
        "outputId": "8f153866-e726-4f38-ec0b-a9f9219b63b8"
      },
      "execution_count": 27,
      "outputs": [
        {
          "output_type": "stream",
          "name": "stdout",
          "text": [
            "Enter First Number: 13\n",
            "Enter Divider Number: 15\n",
            "Answer: 0.8666666666666667\n"
          ]
        }
      ]
    }
  ]
}