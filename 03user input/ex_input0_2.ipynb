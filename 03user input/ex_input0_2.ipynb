{
  "nbformat": 4,
  "nbformat_minor": 0,
  "metadata": {
    "colab": {
      "provenance": []
    },
    "kernelspec": {
      "name": "python3",
      "display_name": "Python 3"
    },
    "language_info": {
      "name": "python"
    }
  },
  "cells": [
    {
      "cell_type": "code",
      "source": [
        "# Collecting Data\n",
        "name = input(\"Enter Your Name: \")\n",
        "age = input(\"Enter Your Age: \")\n",
        "\n",
        "print(name + \" is \" + age + \" Years Old!\")"
      ],
      "metadata": {
        "colab": {
          "base_uri": "https://localhost:8080/"
        },
        "id": "i3gdqu9WtnoI",
        "outputId": "5731f82e-62b9-4fb7-9dee-f0fea3b0ff20"
      },
      "execution_count": 29,
      "outputs": [
        {
          "output_type": "stream",
          "name": "stdout",
          "text": [
            "Enter Your Name: Gulraiz Shakoor \n",
            "Enter Your Age: 23\n",
            "Gulraiz Shakoor  is 23 Years Old!\n"
          ]
        }
      ]
    }
  ]
}