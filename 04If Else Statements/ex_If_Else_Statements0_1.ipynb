{
  "nbformat": 4,
  "nbformat_minor": 0,
  "metadata": {
    "colab": {
      "provenance": []
    },
    "kernelspec": {
      "name": "python3",
      "display_name": "Python 3"
    },
    "language_info": {
      "name": "python"
    }
  },
  "cells": [
    {
      "cell_type": "code",
      "source": [
        "# Conditional Tests\n",
        "a = 29\n",
        "\n",
        "# ==\n",
        "if a == 29:\n",
        "    print(bool(a))\n",
        "else:\n",
        "    print(a)\n",
        "\n",
        "\n",
        "# !=\n",
        "if a != 29:\n",
        "    print(bool(a))\n",
        "else:\n",
        "    print(a)\n",
        "\n",
        "\n",
        "# >\n",
        "if a > 29:\n",
        "    print(bool(a))\n",
        "else:\n",
        "    print(a)\n",
        "\n",
        "\n",
        "# >=\n",
        "if a >= 29:\n",
        "    print(bool(a))\n",
        "else:\n",
        "    print(a)\n",
        "\n",
        "\n",
        "# <\n",
        "if a < 29:\n",
        "    print(bool(a))\n",
        "else:\n",
        "    print(a)\n",
        "\n",
        "\n",
        "# <=\n",
        "if a <= 99:\n",
        "    print(bool(a))\n",
        "else:\n",
        "    print(a)"
      ],
      "metadata": {
        "colab": {
          "base_uri": "https://localhost:8080/"
        },
        "id": "i3gdqu9WtnoI",
        "outputId": "7ececad5-0c0a-45f1-852e-5dd3db80b542"
      },
      "execution_count": 33,
      "outputs": [
        {
          "output_type": "stream",
          "name": "stdout",
          "text": [
            "True\n",
            "29\n",
            "29\n",
            "True\n",
            "29\n",
            "True\n"
          ]
        }
      ]
    }
  ]
}