{
  "nbformat": 4,
  "nbformat_minor": 0,
  "metadata": {
    "colab": {
      "provenance": []
    },
    "kernelspec": {
      "name": "python3",
      "display_name": "Python 3"
    },
    "language_info": {
      "name": "python"
    }
  },
  "cells": [
    {
      "cell_type": "code",
      "source": [
        "countries_list = [\"Pakistan\", \"India\", \"Japan\", \"China\", \"USA\"]\n",
        "\n",
        "if \"Pakistan\" in countries_list:\n",
        "    print(bool(\"Pakistan\"))"
      ],
      "metadata": {
        "colab": {
          "base_uri": "https://localhost:8080/"
        },
        "id": "i3gdqu9WtnoI",
        "outputId": "645ec756-ad03-4221-8ed0-5d1e26d6cdf6"
      },
      "execution_count": 44,
      "outputs": [
        {
          "output_type": "stream",
          "name": "stdout",
          "text": [
            "True\n"
          ]
        }
      ]
    }
  ]
}