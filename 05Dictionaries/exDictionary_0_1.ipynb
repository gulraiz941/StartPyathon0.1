{
  "nbformat": 4,
  "nbformat_minor": 0,
  "metadata": {
    "colab": {
      "provenance": []
    },
    "kernelspec": {
      "name": "python3",
      "display_name": "Python 3"
    },
    "language_info": {
      "name": "python"
    }
  },
  "cells": [
    {
      "cell_type": "code",
      "source": [
        "# Creating a Dictionary\n",
        "Alien = {\"Color\" : \"Green\", \"Height\" : 5}\n",
        "\n",
        "print(Alien)"
      ],
      "metadata": {
        "colab": {
          "base_uri": "https://localhost:8080/"
        },
        "id": "i3gdqu9WtnoI",
        "outputId": "ebbea5d7-5d5e-4450-ae90-996c6bb3c31f"
      },
      "execution_count": 49,
      "outputs": [
        {
          "output_type": "stream",
          "name": "stdout",
          "text": [
            "{'Color': 'Green', 'Height': 5}\n"
          ]
        }
      ]
    }
  ]
}