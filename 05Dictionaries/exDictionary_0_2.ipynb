{
  "nbformat": 4,
  "nbformat_minor": 0,
  "metadata": {
    "colab": {
      "provenance": []
    },
    "kernelspec": {
      "name": "python3",
      "display_name": "Python 3"
    },
    "language_info": {
      "name": "python"
    }
  },
  "cells": [
    {
      "cell_type": "code",
      "source": [
        "# Creating a Dictionary\n",
        "Alien = {\"Color\" : \"Green\", \"Height\" : 3}\n",
        "\n",
        "print(Alien)"
      ],
      "metadata": {
        "colab": {
          "base_uri": "https://localhost:8080/"
        },
        "id": "i3gdqu9WtnoI",
        "outputId": "6518bb6c-ac2f-484b-a4a5-2234af2e7480"
      },
      "execution_count": 51,
      "outputs": [
        {
          "output_type": "stream",
          "name": "stdout",
          "text": [
            "{'Color': 'Green', 'Height': 3}\n",
            "{'Color': 'Green', 'Height': 3}\n"
          ]
        }
      ]
    }
  ]
}