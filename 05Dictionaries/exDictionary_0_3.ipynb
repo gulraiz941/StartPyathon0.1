{
  "cells": [
    {
      "cell_type": "code",
      "execution_count": 53,
      "metadata": {
        "colab": {
          "base_uri": "https://localhost:8080/"
        },
        "id": "i3gdqu9WtnoI",
        "outputId": "7a393a79-08c3-42a2-acc3-35ad6582aadb"
      },
      "outputs": [
        {
          "output_type": "stream",
          "name": "stdout",
          "text": [
            "eric loves PALESTINE \n",
            "ever loves PALESTINE \n"
          ]
        }
      ],
      "source": [
        "# Looping Through Numbers\n",
        "fav_numbers = {'eric': 17, 'ever': 4}\n",
        "\n",
        "for name in fav_numbers.keys():\n",
        "    print(name + ' loves PALESTINE ')"
      ]
    }
  ],
  "metadata": {
    "colab": {
      "provenance": []
    },
    "kernelspec": {
      "display_name": "Python 3",
      "name": "python3"
    },
    "language_info": {
      "name": "python"
    }
  },
  "nbformat": 4,
  "nbformat_minor": 0
}