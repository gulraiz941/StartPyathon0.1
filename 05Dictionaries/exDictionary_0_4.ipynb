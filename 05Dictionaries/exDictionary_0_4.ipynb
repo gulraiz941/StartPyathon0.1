{
  "cells": [
    {
      "cell_type": "code",
      "execution_count": 55,
      "metadata": {
        "colab": {
          "base_uri": "https://localhost:8080/"
        },
        "id": "i3gdqu9WtnoI",
        "outputId": "a83fd36a-8b49-47ef-d857-9acc40209ca8"
      },
      "outputs": [
        {
          "output_type": "stream",
          "name": "stdout",
          "text": [
            "1200 is a favorite\n",
            "4323 is a favorite\n"
          ]
        }
      ],
      "source": [
        "# Looping through the Values\n",
        "fav_numbers = {'eric': 1200, 'ever': 4323}\n",
        "\n",
        "for number in fav_numbers.values():\n",
        "    print(str(number) + ' is a favorite')"
      ]
    }
  ],
  "metadata": {
    "colab": {
      "provenance": []
    },
    "kernelspec": {
      "display_name": "Python 3",
      "name": "python3"
    },
    "language_info": {
      "name": "python"
    }
  },
  "nbformat": 4,
  "nbformat_minor": 0
}