{
  "cells": [
    {
      "cell_type": "code",
      "execution_count": 63,
      "metadata": {
        "colab": {
          "base_uri": "https://localhost:8080/"
        },
        "id": "i3gdqu9WtnoI",
        "outputId": "bdcb6dba-d435-46cc-8667-121378bb71e9"
      },
      "outputs": [
        {
          "output_type": "stream",
          "name": "stdout",
          "text": [
            "gull loves 1437\n",
            "ever loves 432\n"
          ]
        }
      ],
      "source": [
        "# Looping Through Numbers\n",
        "fav_numbers = {'gull': 1437, 'ever': 432}\n",
        "\n",
        "for name in fav_numbers.keys():\n",
        "    print(name + ' loves '+ str(fav_numbers[name]))"
      ]
    }
  ],
  "metadata": {
    "colab": {
      "provenance": []
    },
    "kernelspec": {
      "display_name": "Python 3",
      "name": "python3"
    },
    "language_info": {
      "name": "python"
    }
  },
  "nbformat": 4,
  "nbformat_minor": 0
}