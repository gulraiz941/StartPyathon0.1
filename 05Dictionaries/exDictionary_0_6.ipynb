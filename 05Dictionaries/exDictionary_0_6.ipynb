{
  "cells": [
    {
      "cell_type": "code",
      "execution_count": 64,
      "metadata": {
        "colab": {
          "base_uri": "https://localhost:8080/"
        },
        "id": "i3gdqu9WtnoI",
        "outputId": "a3cf3392-ebb3-4895-f821-7eaec3f82739"
      },
      "outputs": [
        {
          "output_type": "stream",
          "name": "stdout",
          "text": [
            "{'Japan': 'Technology', 'Pakistan': 'Country'}\n"
          ]
        }
      ],
      "source": [
        "dictionary = {}\n",
        "\n",
        "dictionary['Japan'] = 'Country'\n",
        "dictionary['Pakistan'] = 'Country'\n",
        "\n",
        "dictionary['Japan'] = 'Technology'\n",
        "\n",
        "print(dictionary)"
      ]
    }
  ],
  "metadata": {
    "colab": {
      "provenance": []
    },
    "kernelspec": {
      "display_name": "Python 3",
      "name": "python3"
    },
    "language_info": {
      "name": "python"
    }
  },
  "nbformat": 4,
  "nbformat_minor": 0
}