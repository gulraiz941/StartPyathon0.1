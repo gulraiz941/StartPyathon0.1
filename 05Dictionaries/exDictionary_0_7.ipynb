{
  "cells": [
    {
      "cell_type": "code",
      "execution_count": 65,
      "metadata": {
        "colab": {
          "base_uri": "https://localhost:8080/"
        },
        "id": "i3gdqu9WtnoI",
        "outputId": "79d201cd-fb95-4241-fc87-76d2c89d76f5"
      },
      "outputs": [
        {
          "output_type": "stream",
          "name": "stdout",
          "text": [
            "{'Japan': 'Country', 'Pakistan': 'Country'}\n",
            "dict_keys(['Japan', 'Pakistan'])\n",
            "dict_values(['Country', 'Country'])\n",
            "dict_items([('Japan', 'Country'), ('Pakistan', 'Country')])\n"
          ]
        }
      ],
      "source": [
        "dictionary = {}\n",
        "\n",
        "dictionary['Japan'] = 'Country'\n",
        "dictionary['Pakistan'] = 'Country'\n",
        "\n",
        "\n",
        "print(dictionary)\n",
        "\n",
        "print(dictionary.keys())\n",
        "print(dictionary.values())\n",
        "print(dictionary.items())"
      ]
    }
  ],
  "metadata": {
    "colab": {
      "provenance": []
    },
    "kernelspec": {
      "display_name": "Python 3",
      "name": "python3"
    },
    "language_info": {
      "name": "python"
    }
  },
  "nbformat": 4,
  "nbformat_minor": 0
}