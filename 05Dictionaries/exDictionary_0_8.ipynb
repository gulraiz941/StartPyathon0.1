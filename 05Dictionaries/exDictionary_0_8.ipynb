{
  "cells": [
    {
      "cell_type": "code",
      "execution_count": 68,
      "metadata": {
        "colab": {
          "base_uri": "https://localhost:8080/"
        },
        "id": "i3gdqu9WtnoI",
        "outputId": "34bc680b-f8c5-4212-cb2e-640035a449e8"
      },
      "outputs": [
        {
          "output_type": "stream",
          "name": "stdout",
          "text": [
            "last: Raiz\n",
            "\n",
            "\n",
            "first: Gull\n",
            "\n",
            "\n",
            "username: Gulraiz941\n",
            "\n",
            "\n",
            "last: raiz\n",
            "\n",
            "\n",
            "first: Gull\n",
            "\n",
            "\n",
            "username: Gulraiz941\n",
            "\n",
            "\n"
          ]
        }
      ],
      "source": [
        "# Start with an empty list.\n",
        "users = []\n",
        "new_user = {\n",
        "    'last': 'Raiz',\n",
        "    'first': 'Gull',\n",
        "    'username': 'Gulraiz941',\n",
        " }\n",
        "\n",
        "users.append(new_user)\n",
        "\n",
        "new_user = {\n",
        "    'last': 'raiz',\n",
        "    'first': 'Gull',\n",
        "    'username': 'Gulraiz941',\n",
        " }\n",
        "users.append(new_user)\n",
        "\n",
        "for user_dict in users:\n",
        "    for k, v in user_dict.items():\n",
        "        print(k + \": \" + v)\n",
        "        print(\"\\n\")"
      ]
    }
  ],
  "metadata": {
    "colab": {
      "provenance": []
    },
    "kernelspec": {
      "display_name": "Python 3",
      "name": "python3"
    },
    "language_info": {
      "name": "python"
    }
  },
  "nbformat": 4,
  "nbformat_minor": 0
}