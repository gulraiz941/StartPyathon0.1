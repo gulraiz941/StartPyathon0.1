{
  "cells": [
    {
      "cell_type": "code",
      "execution_count": 74,
      "metadata": {
        "colab": {
          "base_uri": "https://localhost:8080/"
        },
        "id": "i3gdqu9WtnoI",
        "outputId": "fb77bc1b-1a18-4228-f867-8a7ba2bc04ab"
      },
      "outputs": [
        {
          "output_type": "stream",
          "name": "stdout",
          "text": [
            "Pakistan\n",
            "India\n",
            "Japan\n",
            "China\n",
            "USA\n"
          ]
        }
      ],
      "source": [
        "# For Loop\n",
        "countries_list = [\"Pakistan\", \"India\", \"Japan\", \"China\", \"USA\"]\n",
        "\n",
        "for x in countries_list:\n",
        "    print(x)"
      ]
    }
  ],
  "metadata": {
    "colab": {
      "provenance": []
    },
    "kernelspec": {
      "display_name": "Python 3",
      "name": "python3"
    },
    "language_info": {
      "name": "python"
    }
  },
  "nbformat": 4,
  "nbformat_minor": 0
}