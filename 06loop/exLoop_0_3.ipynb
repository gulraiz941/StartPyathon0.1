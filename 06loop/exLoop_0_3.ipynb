{
  "cells": [
    {
      "cell_type": "code",
      "source": [
        "# Breaking While Loop\n",
        "\n",
        "a = 322\n",
        "\n",
        "while True:\n",
        "    print(a)\n",
        "    break"
      ],
      "metadata": {
        "colab": {
          "base_uri": "https://localhost:8080/"
        },
        "id": "6nXRC7JqXcsa",
        "outputId": "34618d67-d5fa-45c3-bd15-cb06f90f0665"
      },
      "execution_count": 2,
      "outputs": [
        {
          "output_type": "stream",
          "name": "stdout",
          "text": [
            "322\n"
          ]
        }
      ]
    }
  ],
  "metadata": {
    "colab": {
      "provenance": []
    },
    "kernelspec": {
      "display_name": "Python 3",
      "name": "python3"
    },
    "language_info": {
      "name": "python"
    }
  },
  "nbformat": 4,
  "nbformat_minor": 0
}