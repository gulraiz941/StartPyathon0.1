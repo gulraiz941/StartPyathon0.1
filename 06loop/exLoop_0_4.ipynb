{
  "cells": [
    {
      "cell_type": "code",
      "source": [
        "banned_users = ['eve', 'fred', 'gary', 'helen']\n",
        "prompt = \"\\nAdd a player to your team.\"\n",
        "prompt += \"\\nEnter 'quit' when you're done. \"\n",
        "players = []\n",
        "while True:\n",
        "    player = input(prompt)\n",
        "    if player == 'quit':\n",
        "        break\n",
        "    elif player in banned_users:\n",
        "        print(player + \" is banned!\")\n",
        "        continue\n",
        "    else:\n",
        "        players.append(player)\n",
        "        print(\"\\nYour team:\")\n",
        "\n",
        "\n",
        "for player in players:\n",
        "    print(player)"
      ],
      "metadata": {
        "colab": {
          "base_uri": "https://localhost:8080/"
        },
        "id": "6nXRC7JqXcsa",
        "outputId": "d2256430-a470-46cd-ebb8-dbefb8e41a68"
      },
      "execution_count": null,
      "outputs": [
        {
          "output_type": "stream",
          "name": "stdout",
          "text": [
            "\n",
            "Add a player to your team.\n",
            "Enter 'quit' when you're done. 1\n",
            "\n",
            "Your team:\n",
            "\n",
            "Add a player to your team.\n",
            "Enter 'quit' when you're done. 3\n",
            "\n",
            "Your team:\n"
          ]
        }
      ]
    }
  ],
  "metadata": {
    "colab": {
      "provenance": []
    },
    "kernelspec": {
      "display_name": "Python 3",
      "name": "python3"
    },
    "language_info": {
      "name": "python"
    }
  },
  "nbformat": 4,
  "nbformat_minor": 0
}