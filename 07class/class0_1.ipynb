{
  "nbformat": 4,
  "nbformat_minor": 0,
  "metadata": {
    "colab": {
      "provenance": []
    },
    "kernelspec": {
      "name": "python3",
      "display_name": "Python 3"
    },
    "language_info": {
      "name": "python"
    }
  },
  "cells": [
    {
      "cell_type": "code",
      "source": [
        "class Cat:\n",
        "    def __init__(self, name):\n",
        "        self.name = name\n",
        "\n",
        "    def meow(self):\n",
        "        print(self.name + \" says 'Meow'!\")\n",
        "\n",
        "my_cat = Cat('Whiskers')\n",
        "print(my_cat.name + \" is a lovely cat!\")\n",
        "my_cat.meow()\n"
      ],
      "metadata": {
        "colab": {
          "base_uri": "https://localhost:8080/"
        },
        "id": "MtuJosNOh1ef",
        "outputId": "5c508e65-1c32-4181-e8b9-21c48d01221b"
      },
      "execution_count": 18,
      "outputs": [
        {
          "output_type": "stream",
          "name": "stdout",
          "text": [
            "Whiskers is a lovely cat!\n",
            "Whiskers says 'Meow'!\n"
          ]
        }
      ]
    }
  ]
}