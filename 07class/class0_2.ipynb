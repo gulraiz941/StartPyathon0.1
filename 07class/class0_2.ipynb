{
  "nbformat": 4,
  "nbformat_minor": 0,
  "metadata": {
    "colab": {
      "provenance": []
    },
    "kernelspec": {
      "name": "python3",
      "display_name": "Python 3"
    },
    "language_info": {
      "name": "python"
    }
  },
  "cells": [
    {
      "cell_type": "code",
      "source": [
        "class Cat:\n",
        "    def __init__(self, name):\n",
        "        self.name = name\n",
        "\n",
        "    def meow(self):\n",
        "        print(self.name + \" says 'Meow'!\")\n",
        "\n",
        "class NinjaCat(Cat):\n",
        "    def sneak_attack(self):\n",
        "        print(self.name + \" launches a sneak attack!\")\n",
        "\n",
        "my_cat = NinjaCat('Whiskers')\n",
        "print(my_cat.name + \" is a ninja cat!\")\n",
        "my_cat.meow()\n",
        "my_cat.sneak_attack()\n"
      ],
      "metadata": {
        "colab": {
          "base_uri": "https://localhost:8080/"
        },
        "id": "CVVG8PqGjd3g",
        "outputId": "6d6c2e03-6862-4cb3-83eb-92e4005410ab"
      },
      "execution_count": 19,
      "outputs": [
        {
          "output_type": "stream",
          "name": "stdout",
          "text": [
            "Whiskers is a ninja cat!\n",
            "Whiskers says 'Meow'!\n",
            "Whiskers launches a sneak attack!\n"
          ]
        }
      ]
    }
  ]
}