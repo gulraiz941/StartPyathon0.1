{
  "nbformat": 4,
  "nbformat_minor": 0,
  "metadata": {
    "colab": {
      "provenance": []
    },
    "kernelspec": {
      "name": "python3",
      "display_name": "Python 3"
    },
    "language_info": {
      "name": "python"
    }
  },
  "cells": [
    {
      "cell_type": "code",
      "source": [
        "class Bike:\n",
        "\n",
        "    def __init__(self, make, model, year):\n",
        "\n",
        "        self.make = make\n",
        "        self.model = model\n",
        "        self.year = year\n",
        "        # Fuel capacity and level in gallons.\n",
        "        self.fuel_capacity = 3\n",
        "        self.fuel_level = 0\n",
        "\n",
        "    def fill_tank(self):\n",
        "        self.fuel_level = self.fuel_capacity\n",
        "        print(\"Fuel tank is full.\")\n",
        "\n",
        "    def ride(self):\n",
        "        print(\"The bike is in motion.\")\n",
        "\n",
        "bike = Bike('Mountain', 'M5', 2023)\n",
        "print(bike.fill_tank())\n"
      ],
      "metadata": {
        "colab": {
          "base_uri": "https://localhost:8080/"
        },
        "id": "CVVG8PqGjd3g",
        "outputId": "488689b8-675a-419d-d893-2f92cbd76e49"
      },
      "execution_count": 20,
      "outputs": [
        {
          "output_type": "stream",
          "name": "stdout",
          "text": [
            "Fuel tank is full.\n",
            "None\n"
          ]
        }
      ]
    }
  ]
}