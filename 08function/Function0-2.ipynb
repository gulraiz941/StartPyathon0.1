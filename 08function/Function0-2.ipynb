{
  "nbformat": 4,
  "nbformat_minor": 0,
  "metadata": {
    "colab": {
      "provenance": []
    },
    "kernelspec": {
      "name": "python3",
      "display_name": "Python 3"
    },
    "language_info": {
      "name": "python"
    }
  },
  "cells": [
    {
      "cell_type": "code",
      "source": [
        "# Calling a Function\n",
        "def function():\n",
        "    print(\"Hello GUllraiz!\")\n",
        "\n",
        "function()"
      ],
      "metadata": {
        "id": "kgEv9tc8WUMJ",
        "outputId": "d37c7286-fde6-419e-a0e4-fa15abb91c78",
        "colab": {
          "base_uri": "https://localhost:8080/"
        }
      },
      "execution_count": 2,
      "outputs": [
        {
          "output_type": "stream",
          "name": "stdout",
          "text": [
            "Hello GUllraiz!\n"
          ]
        }
      ]
    }
  ]
}