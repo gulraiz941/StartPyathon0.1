{
  "nbformat": 4,
  "nbformat_minor": 0,
  "metadata": {
    "colab": {
      "provenance": []
    },
    "kernelspec": {
      "name": "python3",
      "display_name": "Python 3"
    },
    "language_info": {
      "name": "python"
    }
  },
  "cells": [
    {
      "cell_type": "code",
      "source": [
        "# Returning Single Value\n",
        "\n",
        "def get_full_name(first, last):\n",
        "    full_name = first + ' ' + last\n",
        "    return full_name.title()\n",
        "\n",
        "musician = get_full_name('gulraiz', 'nawaiz')\n",
        "print(musician)"
      ],
      "metadata": {
        "colab": {
          "base_uri": "https://localhost:8080/"
        },
        "id": "MEhBz0MAhWBv",
        "outputId": "bbaf8148-d2f9-42c4-c280-fb4a90ed065e"
      },
      "execution_count": 17,
      "outputs": [
        {
          "output_type": "stream",
          "name": "stdout",
          "text": [
            "Gulraiz Nawaiz\n"
          ]
        }
      ]
    }
  ]
}