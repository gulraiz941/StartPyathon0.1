{
  "nbformat": 4,
  "nbformat_minor": 0,
  "metadata": {
    "colab": {
      "provenance": []
    },
    "kernelspec": {
      "name": "python3",
      "display_name": "Python 3"
    },
    "language_info": {
      "name": "python"
    }
  },
  "cells": [
    {
      "cell_type": "code",
      "source": [
        "# Function with Variable\n",
        "def function(name):\n",
        "    print(\"Hello \" + name + \"!\")\n",
        "\n",
        "name = input(\"What is your name: \")\n",
        "function(name)"
      ],
      "metadata": {
        "colab": {
          "base_uri": "https://localhost:8080/"
        },
        "id": "5pmHkJXRXN3A",
        "outputId": "6dc9a56d-b356-41f2-90fc-3bf6e017026a"
      },
      "execution_count": 5,
      "outputs": [
        {
          "output_type": "stream",
          "name": "stdout",
          "text": [
            "What is your name: gull\n",
            "Hello gull!\n"
          ]
        }
      ]
    }
  ]
}