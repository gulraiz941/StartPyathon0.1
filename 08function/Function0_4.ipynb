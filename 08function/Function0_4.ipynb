{
  "nbformat": 4,
  "nbformat_minor": 0,
  "metadata": {
    "colab": {
      "provenance": []
    },
    "kernelspec": {
      "name": "python3",
      "display_name": "Python 3"
    },
    "language_info": {
      "name": "python"
    }
  },
  "cells": [
    {
      "cell_type": "code",
      "source": [
        "def function(name = 'Gulraiz'):\n",
        "    print(\"Hello \" + name + \"!\")\n",
        "\n",
        "\n",
        "function()\n",
        "name = input(\"What is your name: \")\n",
        "function(name)"
      ],
      "metadata": {
        "colab": {
          "base_uri": "https://localhost:8080/"
        },
        "id": "c3nWNgujYaTX",
        "outputId": "63a5b56f-7e6e-492c-9a5d-3eef3358890b"
      },
      "execution_count": 9,
      "outputs": [
        {
          "output_type": "stream",
          "name": "stdout",
          "text": [
            "Hello Gulraiz!\n",
            "What is your name: gulraiz\n",
            "Hello gulraiz!\n"
          ]
        }
      ]
    }
  ]
}