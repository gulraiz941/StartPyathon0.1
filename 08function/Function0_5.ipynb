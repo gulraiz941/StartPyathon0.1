{
  "nbformat": 4,
  "nbformat_minor": 0,
  "metadata": {
    "colab": {
      "provenance": []
    },
    "kernelspec": {
      "name": "python3",
      "display_name": "Python 3"
    },
    "language_info": {
      "name": "python"
    }
  },
  "cells": [
    {
      "cell_type": "code",
      "source": [
        "def function(x, y):\n",
        "    sum = int(x) + int(y)\n",
        "    return sum\n",
        "\n",
        "\n",
        "x = input(\"Enter 1st Number: \")\n",
        "y = input(\"Enter 2nd Number: \")\n",
        "\n",
        "a = function(x, y)\n",
        "\n",
        "print(a)"
      ],
      "metadata": {
        "colab": {
          "base_uri": "https://localhost:8080/"
        },
        "id": "k2eVfcS0ZGk9",
        "outputId": "0f7ccfde-11e4-4eb0-e915-0dd4f919240b"
      },
      "execution_count": 10,
      "outputs": [
        {
          "output_type": "stream",
          "name": "stdout",
          "text": [
            "Enter 1st Number: 1\n",
            "Enter 2nd Number: 2\n",
            "3\n"
          ]
        }
      ]
    }
  ]
}