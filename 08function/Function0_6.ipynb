{
  "nbformat": 4,
  "nbformat_minor": 0,
  "metadata": {
    "colab": {
      "provenance": []
    },
    "kernelspec": {
      "name": "python3",
      "display_name": "Python 3"
    },
    "language_info": {
      "name": "python"
    }
  },
  "cells": [
    {
      "cell_type": "code",
      "source": [
        "def function(x = '0', y = '0'):\n",
        "    sum = int(x) + int(y)\n",
        "    return sum\n",
        "\n",
        "\n",
        "x = input(\"Enter 1st Number: \")\n",
        "y = input(\"Enter 2nd Number: \")\n",
        "\n",
        "a = function(x, y)\n",
        "\n",
        "print(a)"
      ],
      "metadata": {
        "colab": {
          "base_uri": "https://localhost:8080/"
        },
        "id": "W8GE4eKzaQLh",
        "outputId": "7da2b611-823e-438c-c994-a1fa7d6a9585"
      },
      "execution_count": 11,
      "outputs": [
        {
          "output_type": "stream",
          "name": "stdout",
          "text": [
            "Enter 1st Number: 4\n",
            "Enter 2nd Number: 5\n",
            "9\n"
          ]
        }
      ]
    }
  ]
}