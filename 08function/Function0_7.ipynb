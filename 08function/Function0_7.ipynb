{
  "nbformat": 4,
  "nbformat_minor": 0,
  "metadata": {
    "colab": {
      "provenance": []
    },
    "kernelspec": {
      "name": "python3",
      "display_name": "Python 3"
    },
    "language_info": {
      "name": "python"
    }
  },
  "cells": [
    {
      "cell_type": "code",
      "source": [
        "def describe_pet(animal='hamster', name='None'):\n",
        "    \"\"\"Display information about a pet.\"\"\"\n",
        "    print(\"\\nI have a \" + animal + \".\")\n",
        "    print(\"Its name is \" + name + \".\")\n",
        "\n",
        "# Calling the function with positional arguments\n",
        "describe_pet('hamster', 'harry')\n",
        "describe_pet('dog', 'willie')\n",
        "\n",
        "# Calling the function with default values\n",
        "describe_pet()\n",
        "\n",
        "# Calling the function with keyword arguments\n",
        "describe_pet(animal='lion', name='Simba')\n"
      ],
      "metadata": {
        "colab": {
          "base_uri": "https://localhost:8080/"
        },
        "id": "W8GE4eKzaQLh",
        "outputId": "ea70a002-b123-4805-c1bc-900a3b8bfb40"
      },
      "execution_count": 13,
      "outputs": [
        {
          "output_type": "stream",
          "name": "stdout",
          "text": [
            "\n",
            "I have a hamster.\n",
            "Its name is harry.\n",
            "\n",
            "I have a dog.\n",
            "Its name is willie.\n",
            "\n",
            "I have a hamster.\n",
            "Its name is None.\n",
            "\n",
            "I have a lion.\n",
            "Its name is Simba.\n"
          ]
        }
      ]
    }
  ]
}