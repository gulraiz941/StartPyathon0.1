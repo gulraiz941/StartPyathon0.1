{
  "nbformat": 4,
  "nbformat_minor": 0,
  "metadata": {
    "colab": {
      "provenance": []
    },
    "kernelspec": {
      "name": "python3",
      "display_name": "Python 3"
    },
    "language_info": {
      "name": "python"
    }
  },
  "cells": [
    {
      "cell_type": "code",
      "source": [
        "def describe_pet(animal, name):\n",
        "    print(\"\\nI have a \" + animal + \".\")\n",
        "    print(\"Its name is \" + name + \".\")\n",
        "\n",
        "# Calling the function with keyword arguments in a different order\n",
        "describe_pet(name='harry', animal='hamster')\n",
        "describe_pet(animal='dog', name='willie')\n"
      ],
      "metadata": {
        "colab": {
          "base_uri": "https://localhost:8080/"
        },
        "id": "-RpGBu-SfTzP",
        "outputId": "70045367-84c8-477b-a7f3-4867638a3f93"
      },
      "execution_count": 14,
      "outputs": [
        {
          "output_type": "stream",
          "name": "stdout",
          "text": [
            "\n",
            "I have a hamster.\n",
            "Its name is harry.\n",
            "\n",
            "I have a dog.\n",
            "Its name is willie.\n"
          ]
        }
      ]
    }
  ]
}