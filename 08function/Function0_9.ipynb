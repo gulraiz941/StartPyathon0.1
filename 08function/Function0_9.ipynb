{
  "nbformat": 4,
  "nbformat_minor": 0,
  "metadata": {
    "colab": {
      "provenance": []
    },
    "kernelspec": {
      "name": "python3",
      "display_name": "Python 3"
    },
    "language_info": {
      "name": "python"
    }
  },
  "cells": [
    {
      "cell_type": "code",
      "source": [
        "def describe_pet(animal, name):\n",
        "    print(\"\\nI have a \" + animal + \".\")\n",
        "    print(\"Its name is \" + name + \".\")\n",
        "\n",
        "# Describing a cat named \"Whiskers\"\n",
        "describe_pet(animal='cat', name='Whiskers')\n",
        "\n",
        "# Describing a parrot named \"Polly\"\n",
        "describe_pet(animal='parrot', name='Polly')\n"
      ],
      "metadata": {
        "id": "RZDblTgxgNGI",
        "outputId": "ae562539-84bc-4540-c5c8-1c30e47bc764",
        "colab": {
          "base_uri": "https://localhost:8080/"
        }
      },
      "execution_count": 15,
      "outputs": [
        {
          "output_type": "stream",
          "name": "stdout",
          "text": [
            "\n",
            "I have a cat.\n",
            "Its name is Whiskers.\n",
            "\n",
            "I have a parrot.\n",
            "Its name is Polly.\n"
          ]
        }
      ]
    }
  ]
}