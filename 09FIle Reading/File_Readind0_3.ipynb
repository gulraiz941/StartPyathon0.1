{
  "nbformat": 4,
  "nbformat_minor": 0,
  "metadata": {
    "colab": {
      "provenance": []
    },
    "kernelspec": {
      "name": "python3",
      "display_name": "Python 3"
    },
    "language_info": {
      "name": "python"
    }
  },
  "cells": [
    {
      "cell_type": "code",
      "source": [
        "# Creating a txt file\n",
        "\n",
        "file = \"new_file.txt\"\n",
        "\n",
        "with open(file, 'w+') as f:\n",
        "    print(\"File Created!\")"
      ],
      "metadata": {
        "colab": {
          "base_uri": "https://localhost:8080/"
        },
        "id": "UoBLJIjF0oKB",
        "outputId": "1ccdf5c0-8694-41af-8792-d322c78ce5d2"
      },
      "execution_count": 38,
      "outputs": [
        {
          "output_type": "stream",
          "name": "stdout",
          "text": [
            "File Created!\n"
          ]
        }
      ]
    }
  ]
}