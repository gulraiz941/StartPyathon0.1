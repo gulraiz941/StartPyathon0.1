{
  "nbformat": 4,
  "nbformat_minor": 0,
  "metadata": {
    "colab": {
      "provenance": []
    },
    "kernelspec": {
      "name": "python3",
      "display_name": "Python 3"
    },
    "language_info": {
      "name": "python"
    }
  },
  "cells": [
    {
      "cell_type": "code",
      "source": [
        "# Creating and add data in txt file\n",
        "\n",
        "file = \"new_file.txt\"\n",
        "\n",
        "with open(file, 'w+') as f:\n",
        "    f.write(\"Hello World!\")"
      ],
      "metadata": {
        "id": "UoBLJIjF0oKB"
      },
      "execution_count": 39,
      "outputs": []
    }
  ]
}