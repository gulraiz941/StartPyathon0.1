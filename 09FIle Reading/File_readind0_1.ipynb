{
  "nbformat": 4,
  "nbformat_minor": 0,
  "metadata": {
    "colab": {
      "provenance": []
    },
    "kernelspec": {
      "name": "python3",
      "display_name": "Python 3"
    },
    "language_info": {
      "name": "python"
    }
  },
  "cells": [
    {
      "cell_type": "code",
      "source": [
        "print(\"My name is Gulraiz Shakoor.\")\n",
        "print(\"I'm from Pakistan.\")\n",
        "print(\"I'm an Artificial Intelligence Engineer.\")\n",
        "print(\"I will go to Denmark Inshallah.\")\n"
      ],
      "metadata": {
        "colab": {
          "base_uri": "https://localhost:8080/"
        },
        "id": "BGnp1u3IszXL",
        "outputId": "9fbe88ea-9a95-4dbb-8a31-16ff784fbf08"
      },
      "execution_count": 22,
      "outputs": [
        {
          "output_type": "stream",
          "name": "stdout",
          "text": [
            "My name is Gulraiz Shakoor.\n",
            "I'm from Pakistan.\n",
            "I'm an Artificial Intelligence Engineer.\n",
            "I will go to Denmark Inshallah.\n"
          ]
        }
      ]
    }
  ]
}