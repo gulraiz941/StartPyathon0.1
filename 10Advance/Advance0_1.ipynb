{
  "nbformat": 4,
  "nbformat_minor": 0,
  "metadata": {
    "colab": {
      "provenance": []
    },
    "kernelspec": {
      "name": "python3",
      "display_name": "Python 3"
    },
    "language_info": {
      "name": "python"
    }
  },
  "cells": [
    {
      "cell_type": "code",
      "source": [
        "# Number Conversions (Binary, Octal, Hex)\n",
        "a = 444\n",
        "b = 0o1343\n",
        "\n",
        "\n",
        "\n",
        "print(hex(a))\n",
        "print(oct(a))\n",
        "print(bin(a))\n",
        "print(b)"
      ],
      "metadata": {
        "colab": {
          "base_uri": "https://localhost:8080/"
        },
        "id": "UoBLJIjF0oKB",
        "outputId": "4b7eae80-70ac-4200-f3e5-00b799233a3e"
      },
      "execution_count": 47,
      "outputs": [
        {
          "output_type": "stream",
          "name": "stdout",
          "text": [
            "0x1bc\n",
            "0o674\n",
            "0b110111100\n",
            "739\n"
          ]
        }
      ]
    }
  ]
}