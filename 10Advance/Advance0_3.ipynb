{
  "nbformat": 4,
  "nbformat_minor": 0,
  "metadata": {
    "colab": {
      "provenance": []
    },
    "kernelspec": {
      "name": "python3",
      "display_name": "Python 3"
    },
    "language_info": {
      "name": "python"
    }
  },
  "cells": [
    {
      "cell_type": "code",
      "source": [
        "firstName = \"GULL\"\n",
        "print(firstName)\n",
        "fullName = \"Gullraiz Shakoor\"\n",
        "print(fullName)\n",
        "\n",
        "score1 = int(input(\"Enter the score 1: \"))\n",
        "score2 = int(input(\"Enter the score 2: \"))\n",
        "totalString = score1 + score2\n",
        "messageString = \"Total score is %s \"\n",
        "\n",
        "print(messageString % totalString)\n",
        "\n",
        "totalInt = int(score1) + int(score2)\n",
        "messageString = \"Total score is %s \"\n",
        "print(messageString % totalInt)\n",
        "\n",
        "score1 = int(input(\"Enter the score 1: \"))\n",
        "score2 = int(input(\"Enter the score 2: \"))\n",
        "total = score1 + score2\n",
        "messageString = \"score1(%s ) + score2(%s ) = %s \"\n",
        "print(messageString % (score1, score2, total))\n"
      ],
      "metadata": {
        "colab": {
          "base_uri": "https://localhost:8080/"
        },
        "id": "O2ZmjRVW8QqM",
        "outputId": "e85f5d9a-4751-48eb-ad8a-fc909f3f4dd4"
      },
      "execution_count": null,
      "outputs": [
        {
          "output_type": "stream",
          "name": "stdout",
          "text": [
            "GULL\n",
            "Gullraiz Shakoor\n",
            "Enter the score 1: 2\n",
            "Enter the score 2: 3\n",
            "Total score is 5 \n",
            "Total score is 5 \n"
          ]
        }
      ]
    }
  ]
}