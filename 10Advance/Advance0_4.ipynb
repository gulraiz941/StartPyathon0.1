{
  "nbformat": 4,
  "nbformat_minor": 0,
  "metadata": {
    "colab": {
      "provenance": []
    },
    "kernelspec": {
      "name": "python3",
      "display_name": "Python 3"
    },
    "language_info": {
      "name": "python"
    }
  },
  "cells": [
    {
      "cell_type": "code",
      "source": [
        "# Direct Number Conversion\n",
        "\n",
        "print('{:06b}'.format(10))\n",
        "print('{:07x}'.format(8))\n",
        "print('{:2x}'.format(2))"
      ],
      "metadata": {
        "colab": {
          "base_uri": "https://localhost:8080/"
        },
        "id": "SakfyAtt_HB0",
        "outputId": "fe21e3df-5f76-4ad8-91f1-f8beec9d9df5"
      },
      "execution_count": 54,
      "outputs": [
        {
          "output_type": "stream",
          "name": "stdout",
          "text": [
            "001010\n",
            "0000008\n",
            " 2\n"
          ]
        }
      ]
    }
  ]
}