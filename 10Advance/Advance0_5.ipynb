{
  "nbformat": 4,
  "nbformat_minor": 0,
  "metadata": {
    "colab": {
      "provenance": []
    },
    "kernelspec": {
      "name": "python3",
      "display_name": "Python 3"
    },
    "language_info": {
      "name": "python"
    }
  },
  "cells": [
    {
      "cell_type": "code",
      "source": [
        "# Direct Number Conversion with zfill\n",
        "\n",
        "print('{:06b}'.format(10).zfill(14))\n",
        "print('{:07x}'.format(8).zfill(13))\n",
        "print('{:2x}'.format(2).zfill(14))"
      ],
      "metadata": {
        "colab": {
          "base_uri": "https://localhost:8080/"
        },
        "id": "UQhov1Vq_cwt",
        "outputId": "6cf9fcda-1ed8-42db-ccc1-464e07056217"
      },
      "execution_count": 56,
      "outputs": [
        {
          "output_type": "stream",
          "name": "stdout",
          "text": [
            "00000000001010\n",
            "0000000000008\n",
            "000000000000 2\n"
          ]
        }
      ]
    }
  ]
}