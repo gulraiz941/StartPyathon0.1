{
  "nbformat": 4,
  "nbformat_minor": 0,
  "metadata": {
    "colab": {
      "provenance": []
    },
    "kernelspec": {
      "name": "python3",
      "display_name": "Python 3"
    },
    "language_info": {
      "name": "python"
    }
  },
  "cells": [
    {
      "cell_type": "code",
      "source": [
        "# Import Libraries\n",
        "import numpy as np\n",
        "\n",
        "# Arrange list using np\n",
        "\n",
        "a = np.arange(1, 10)\n",
        "print(a)\n",
        "print(a.shape)\n",
        "\n",
        "b = np.arange(1, 10, 2)\n",
        "print(b)\n",
        "print(b.shape)\n",
        "\n",
        "c = np.arange(10, 2, -2)\n",
        "print(c)\n",
        "print(c.shape)"
      ],
      "metadata": {
        "colab": {
          "base_uri": "https://localhost:8080/"
        },
        "id": "VOBt5DhjAGJN",
        "outputId": "18a9b70a-d43d-4291-86e1-7e4a60a73f35"
      },
      "execution_count": 57,
      "outputs": [
        {
          "output_type": "stream",
          "name": "stdout",
          "text": [
            "[1 2 3 4 5 6 7 8 9]\n",
            "(9,)\n",
            "[1 3 5 7 9]\n",
            "(5,)\n",
            "[10  8  6  4]\n",
            "(4,)\n"
          ]
        }
      ]
    }
  ]
}