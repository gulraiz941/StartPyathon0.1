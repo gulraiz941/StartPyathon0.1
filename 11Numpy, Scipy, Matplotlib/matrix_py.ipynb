{
  "nbformat": 4,
  "nbformat_minor": 0,
  "metadata": {
    "colab": {
      "provenance": []
    },
    "kernelspec": {
      "name": "python3",
      "display_name": "Python 3"
    },
    "language_info": {
      "name": "python"
    }
  },
  "cells": [
    {
      "cell_type": "code",
      "source": [
        "import numpy as np\n",
        "from scipy.linalg import lu\n",
        "\n",
        "\n",
        "a = np.mat('1, 2; 3, 4; 5, 6')\n",
        "print(a)\n",
        "\n",
        "aT = np.transpose(a)\n",
        "print(aT)\n",
        "\n",
        "b = 2*np.eye(3)\n",
        "print(b)\n",
        "\n",
        "c = b*a\n",
        "print(c)\n",
        "\n",
        "l = lu(a)\n",
        "print(l)"
      ],
      "metadata": {
        "colab": {
          "base_uri": "https://localhost:8080/"
        },
        "id": "Olrzm81IBE7H",
        "outputId": "64a081e1-0eb1-4e0c-bd2d-8315f0b22f8b"
      },
      "execution_count": 61,
      "outputs": [
        {
          "output_type": "stream",
          "name": "stdout",
          "text": [
            "[[1 2]\n",
            " [3 4]\n",
            " [5 6]]\n",
            "[[1 3 5]\n",
            " [2 4 6]]\n",
            "[[2. 0. 0.]\n",
            " [0. 2. 0.]\n",
            " [0. 0. 2.]]\n",
            "[[ 2.  4.]\n",
            " [ 6.  8.]\n",
            " [10. 12.]]\n",
            "(array([[0., 1., 0.],\n",
            "       [0., 0., 1.],\n",
            "       [1., 0., 0.]]), array([[1. , 0. ],\n",
            "       [0.2, 1. ],\n",
            "       [0.6, 0.5]]), array([[5. , 6. ],\n",
            "       [0. , 0.8]]))\n"
          ]
        }
      ]
    }
  ]
}