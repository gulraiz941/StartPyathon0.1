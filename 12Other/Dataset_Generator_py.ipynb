{
  "nbformat": 4,
  "nbformat_minor": 0,
  "metadata": {
    "colab": {
      "provenance": []
    },
    "kernelspec": {
      "name": "python3",
      "display_name": "Python 3"
    },
    "language_info": {
      "name": "python"
    }
  },
  "cells": [
    {
      "cell_type": "code",
      "source": [
        "import csv\n",
        "import random\n",
        "\n",
        "file = 'water_quality_data.csv'\n",
        "\n",
        "with open(file, 'w', newline='') as n:\n",
        "    writer = csv.writer(n)\n",
        "    writer.writerow(['Longitude', 'Latitude', 'pH', 'Hardness', 'Solids', 'Conductivity', 'Turbidity', 'Portability'])\n",
        "\n",
        "    for x in range(100):\n",
        "        latitude = round(random.uniform(29.26, 29.46), 6)\n",
        "        longitude = round(random.uniform(71.60, 71.78), 6)\n",
        "        pH = round(random.uniform(6.5, 14), 5)\n",
        "        Hardness = round(random.uniform(0, 300), 5)\n",
        "        solids = round(random.uniform(0, 40000), 5)\n",
        "        conductivity = round(random.uniform(0.5, 55000), 5)\n",
        "        turbidity = round(random.uniform(0, 250), 5)\n",
        "        portability = random.choice([0, 1])\n",
        "\n",
        "        writer.writerow([str(longitude), str(latitude), str(pH), str(Hardness), str(solids), str(conductivity), str(turbidity), str(portability)])\n"
      ],
      "metadata": {
        "id": "OSrsMERLCXo9"
      },
      "execution_count": 62,
      "outputs": []
    }
  ]
}