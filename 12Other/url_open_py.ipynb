{
  "nbformat": 4,
  "nbformat_minor": 0,
  "metadata": {
    "colab": {
      "provenance": []
    },
    "kernelspec": {
      "name": "python3",
      "display_name": "Python 3"
    },
    "language_info": {
      "name": "python"
    }
  },
  "cells": [
    {
      "cell_type": "code",
      "source": [
        "import urllib.request\n",
        "import re\n",
        "\n",
        "search_keyword=\"gullAroojvlog\"\n",
        "html = urllib.request.urlopen(\"https://www.youtube.com/results?search_query=\" + search_keyword)\n",
        "video_ids = re.findall(r\"watch\\?v=(\\S{11})\", html.read().decode())\n",
        "link = \"https://www.youtube.com/watch?v=\" + video_ids[0]\n",
        "print(link)"
      ],
      "metadata": {
        "colab": {
          "base_uri": "https://localhost:8080/"
        },
        "id": "-uo5-UJ4D29r",
        "outputId": "8bbb235b-41e3-4566-b368-4b7b31736334"
      },
      "execution_count": 65,
      "outputs": [
        {
          "output_type": "stream",
          "name": "stdout",
          "text": [
            "https://www.youtube.com/watch?v=_QOKVln081s\n"
          ]
        }
      ]
    }
  ]
}