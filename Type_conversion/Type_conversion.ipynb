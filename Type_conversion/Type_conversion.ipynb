{
  "nbformat": 4,
  "nbformat_minor": 0,
  "metadata": {
    "colab": {
      "provenance": []
    },
    "kernelspec": {
      "name": "python3",
      "display_name": "Python 3"
    },
    "language_info": {
      "name": "python"
    }
  },
  "cells": [
    {
      "cell_type": "code",
      "execution_count": null,
      "metadata": {
        "colab": {
          "base_uri": "https://localhost:8080/"
        },
        "id": "EXAyNYQ6dwdh",
        "outputId": "3897c6cd-f9b7-4169-dfed-5ea25b80e174"
      },
      "outputs": [
        {
          "output_type": "stream",
          "name": "stdout",
          "text": [
            "enter your age23\n",
            "25\n"
          ]
        }
      ],
      "source": [
        "#Type conversion Integer\n",
        "old_age=input(\"enter your age\")\n",
        "new_age= int(old_age)+2\n",
        "print(new_age)"
      ]
    },
    {
      "cell_type": "code",
      "source": [
        "#type conversion float\n",
        "Number=16\n",
        "print(float(16))\n"
      ],
      "metadata": {
        "colab": {
          "base_uri": "https://localhost:8080/"
        },
        "id": "kADS5UVSfy_Q",
        "outputId": "9b9c4b0e-d595-4aa9-cd1d-dddf92cea513"
      },
      "execution_count": null,
      "outputs": [
        {
          "output_type": "stream",
          "name": "stdout",
          "text": [
            "16.0\n"
          ]
        }
      ]
    },
    {
      "cell_type": "code",
      "source": [
        "#how to 2 Number are add\n",
        "first=input (\"enter fast number\")\n",
        "secend=input (\"enter secend number\")\n",
        "sum= int(first)+int(secend)\n",
        "print(sum)"
      ],
      "metadata": {
        "colab": {
          "base_uri": "https://localhost:8080/"
        },
        "id": "4Cbmjvh1hfxD",
        "outputId": "ecd71388-4667-4318-d36e-8f9bc3131372"
      },
      "execution_count": null,
      "outputs": [
        {
          "output_type": "stream",
          "name": "stdout",
          "text": [
            "enter fast number2\n",
            "enter secend number4\n",
            "6\n"
          ]
        }
      ]
    },
    {
      "cell_type": "code",
      "source": [
        "#string upper case\n",
        "name= \"Chacha pathco\"\n",
        "print(name.upper())\n",
        "print(name)"
      ],
      "metadata": {
        "colab": {
          "base_uri": "https://localhost:8080/"
        },
        "id": "AhHGqQ5ui0ag",
        "outputId": "4c4f3905-95ae-4db5-894d-b13f7e02919a"
      },
      "execution_count": null,
      "outputs": [
        {
          "output_type": "stream",
          "name": "stdout",
          "text": [
            "CHACHA PATHCO\n",
            "Chacha pathco\n"
          ]
        }
      ]
    },
    {
      "cell_type": "code",
      "source": [
        "#string  lower case\n",
        "name= \"Chacha pathco\"\n",
        "print(name.lower())\n",
        "print(name)"
      ],
      "metadata": {
        "colab": {
          "base_uri": "https://localhost:8080/"
        },
        "id": "TxK1FWMvlvFR",
        "outputId": "b9f2e564-74ac-4215-dde5-85835cd09a23"
      },
      "execution_count": null,
      "outputs": [
        {
          "output_type": "stream",
          "name": "stdout",
          "text": [
            "chacha pathco\n",
            "Chacha pathco\n"
          ]
        }
      ]
    },
    {
      "cell_type": "code",
      "source": [
        "name= \"Chacha pathco\"\n",
        "print(name.find('C'))"
      ],
      "metadata": {
        "colab": {
          "base_uri": "https://localhost:8080/"
        },
        "id": "iCgKOVSlnIUx",
        "outputId": "5c96121a-be6a-4abf-b885-cf8f0ea721a8"
      },
      "execution_count": null,
      "outputs": [
        {
          "output_type": "stream",
          "name": "stdout",
          "text": [
            "0\n"
          ]
        }
      ]
    },
    {
      "cell_type": "code",
      "source": [
        "#name replace\n",
        "name=\"Chacha pathco\"\n",
        "print(name.replace(\"chaha patho\", \"haji\"))\n",
        "print(name)\n"
      ],
      "metadata": {
        "colab": {
          "base_uri": "https://localhost:8080/"
        },
        "id": "KVX3hVJDoAai",
        "outputId": "b5fcb3e5-8423-469b-bd54-19204f140d34"
      },
      "execution_count": null,
      "outputs": [
        {
          "output_type": "stream",
          "name": "stdout",
          "text": [
            "Chacha pathco\n",
            "Chacha pathco\n"
          ]
        }
      ]
    }
  ]
}