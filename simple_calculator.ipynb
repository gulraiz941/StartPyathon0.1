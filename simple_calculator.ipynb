{
  "nbformat": 4,
  "nbformat_minor": 0,
  "metadata": {
    "colab": {
      "provenance": []
    },
    "kernelspec": {
      "name": "python3",
      "display_name": "Python 3"
    },
    "language_info": {
      "name": "python"
    }
  },
  "cells": [
    {
      "cell_type": "code",
      "execution_count": 1,
      "metadata": {
        "colab": {
          "base_uri": "https://localhost:8080/"
        },
        "id": "PozsvdkF9Hdy",
        "outputId": "156afd20-b16d-4a08-90e5-81a41d6d807d"
      },
      "outputs": [
        {
          "output_type": "stream",
          "name": "stdout",
          "text": [
            "Enter the first number: 1\n",
            "Enter operator (+, -, *, /, %): %\n",
            "Enter the second number: 1\n",
            "Result: 0\n"
          ]
        }
      ],
      "source": [
        "# Prompt the user for input\n",
        "first = input(\"Enter the first number: \")\n",
        "operator = input(\"Enter operator (+, -, *, /, %): \")\n",
        "second = input(\"Enter the second number: \")\n",
        "\n",
        "# Convert the input to integers\n",
        "first = int(first)\n",
        "second = int(second)\n",
        "\n",
        "# Perform the calculation based on the operator\n",
        "if operator == \"+\":\n",
        "    result = first + second\n",
        "elif operator == \"-\":\n",
        "    result = first - second\n",
        "elif operator == \"*\":\n",
        "    result = first * second\n",
        "elif operator == \"/\":\n",
        "    if second == 0:\n",
        "        print(\"Division by zero is not allowed.\")\n",
        "    else:\n",
        "        result = first / second\n",
        "elif operator == \"%\":\n",
        "    result = first % second\n",
        "else:\n",
        "    print(\"Invalid operator\")\n",
        "    result = None\n",
        "\n",
        "# Print the result\n",
        "if result is not None:\n",
        "    print(\"Result:\", result)"
      ]
    }
  ]
}